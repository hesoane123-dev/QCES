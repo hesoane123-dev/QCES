{
  "cells": [
    {
      "cell_type": "markdown",
      "metadata": {
        "id": "Kvi1witj5wON"
      },
      "source": [
        "<a href=\"https://colab.research.google.com/github/johnryantaylor/QCES/blob/main/Project1_numerical_methods.ipynb\" target=\"_parent\"><img src=\"https://colab.research.google.com/assets/colab-badge.svg\" alt=\"Open In Colab\"/></a>"
      ]
    },
    {
      "cell_type": "markdown",
      "metadata": {
        "id": "lMhM6NoD5wOP"
      },
      "source": [
        "# Project 1: Heat transport"
      ]
    },
    {
      "cell_type": "markdown",
      "metadata": {
        "id": "_pgh031M5wOP"
      },
      "source": [
        "In this project we will discretize and timestep two systems that describe heat transport. In the first part we will timestep a box model for the Earth's surface temperature with heat buffering provided by the deep ocean. In the second part, we will timestep the one-dimensional diffusion equation which can be used to describe heat moving through a medium (e.g. the ground or still air and water).\n",
        "\n",
        "Through this project, we will learn how to efficiently timestep ordinary and partial differential equations and examine errors introduced by the numerical discretization. We will also have the chance to explore the timescales and physical processes involved in heat transport in the climate system."
      ]
    },
    {
      "cell_type": "markdown",
      "metadata": {
        "id": "V4pW2SawHy6n"
      },
      "source": [
        "## 1. Climate box model"
      ]
    },
    {
      "cell_type": "markdown",
      "metadata": {
        "id": "9LXEeJYBHy6o"
      },
      "source": [
        "In this part of the project we will timestep the following box model.\n",
        "\n",
        "$$ C_s \\partial_t T = F(t) - \\gamma(T-\\theta) $$\n",
        "\n",
        "$$ C_d \\partial_t \\theta = \\gamma (T-\\theta) $$\n",
        "\n",
        "Here, $T(t)$ represents the global mean surface temperature as a function of time and $\\theta(t)$ is the temperature of the deep ocean, both expressed as the difference between the temperature and a pre-industrial equilibrium in units of $^\\circ K$. The net surface heat flux, $F(t)$, drives departures from the pre-industrial temperatures. The heat flux between the surface and deep ocean is assumed to be proportional to the difference between the surface and deep ocean temperatures. The constants are the heat capacity of the surface of the Earth, $C_s$, the heat capacity of the deep ocean, $C_d$, and the heat flux coefficient, $\\gamma$, all given in units of $W/^\\circ K/m^2$.\n",
        "\n",
        "This model is inspired by a more complicated version of a two box climate model in the paper referenced below. (Interested students might consider adding some additional features from their model, but this is not required for this project).\n",
        "\n",
        "*Nicklas, J.M., Fox-Kemper, B. and Lawrence, C., 2025. Efficient Estimation of Climate State and Its Uncertainty Using Kalman Filtering with Application to Policy Thresholds and Volcanism. Journal of Climate, 38(5), pp.1235-1270.*\n",
        "\n",
        "Below, we start to build code to solve these equations. Execute the code cells below.  In some cases you will be asked to add code.\n",
        "\n",
        "Student tasks are in [Section 1.1](#section1pt1), [Section 1.2](#section1pt2), and [Section 1.3](#section1pt3)."
      ]
    },
    {
      "cell_type": "code",
      "execution_count": null,
      "metadata": {
        "id": "bQJdpTTE5wOQ"
      },
      "outputs": [],
      "source": [
        "# Before we start, import necessary libraries. Run this cell first.\n",
        "import numpy as np\n",
        "import matplotlib.pyplot as plt\n",
        "import scipy.sparse as sp\n",
        "import scipy.sparse.linalg as spla\n",
        "import time"
      ]
    },
    {
      "cell_type": "markdown",
      "metadata": {
        "id": "T1LfL0xyHy6o"
      },
      "source": [
        "Now, let's define values for the various constants. These values are taken from Nicklas et al., 2025."
      ]
    },
    {
      "cell_type": "code",
      "execution_count": null,
      "metadata": {
        "id": "7yHGnzsrHy6o"
      },
      "outputs": [],
      "source": [
        "C_s = 17 # heat capacity of the Earth's surface (W/m^2/K)\n",
        "C_d = 156 # heat capacity of the deep ocean (W/m^2/K)\n",
        "gamma = 0.67 # heat exchange coefficient between surface and deep ocean (W/m^2/K)"
      ]
    },
    {
      "cell_type": "markdown",
      "metadata": {
        "id": "seIolbVuHy6o"
      },
      "source": [
        "Now, let's define a function for F(t), the net surface heat flux (in units of $W/m^2$) that will force our model. This function is here to represent the heat imbalance caused by antropogenic greenhouse gases in the atmosphere. When $F=0$, there is no net surface heat flux. The argument, $t$, is the time in years. We will let $t=0$ denote the start of our additional warming, and we set $F=1$ if $t<200$ years and $F=0$ if $t>200$ years. This corresponds to a very bad-case emissions scenario with an abrupt drop in emissions after 200 years."
      ]
    },
    {
      "cell_type": "code",
      "execution_count": null,
      "metadata": {
        "id": "mS9NPaeEHy6p"
      },
      "outputs": [],
      "source": [
        "def F(t):\n",
        "    return 1 if t < 200 else 0"
      ]
    },
    {
      "cell_type": "markdown",
      "metadata": {
        "id": "qlRTK3kSHy6p"
      },
      "source": [
        "Next, set the initial conditions. We will use arrays `T` and `theta`. `T[i]` represents the ith value in the array. We will use `T[0]` and `theta[0]` to hold the initial conditions. Subsequent values, `T[2]`, `T[3]`, etc. will be determined by timestepping the equations. We start by initializing the arrays using numpy and filling them with zeros and then set the initial values (this isn't necessary here since our values are zero anyway, but the code is here to that you can change the initial conditions easily)"
      ]
    },
    {
      "cell_type": "code",
      "execution_count": null,
      "metadata": {
        "id": "Dt42NWp5Hy6p"
      },
      "outputs": [],
      "source": [
        "Nt = 500 # number of time steps (including the starting point)\n",
        "T = np.zeros(Nt) # surface temperature array\n",
        "theta = np.zeros(Nt) # deep ocean temperature array\n",
        "T[0] = 0 # initial surface temperature anomaly (ºK)\n",
        "theta[0] = 0 # initial deep ocean temperature anomaly (ºK)"
      ]
    },
    {
      "cell_type": "markdown",
      "metadata": {
        "id": "59AQor8aHy6p"
      },
      "source": [
        "Now, create an array with the time (in years) corresponding to each time index. Also, calculate the timestep, `dt`."
      ]
    },
    {
      "cell_type": "code",
      "execution_count": null,
      "metadata": {
        "id": "Awe-UO5rHy6p"
      },
      "outputs": [],
      "source": [
        "t = np.linspace(0, 500, Nt) # time in years.  This starts at 0 and ends at 500, with Nt total points\n",
        "dt = t[1] - t[0] # timestep in years"
      ]
    },
    {
      "cell_type": "markdown",
      "metadata": {
        "id": "ZSoMrSITHy6p"
      },
      "source": [
        "Finally, we are ready to create a for loop to timestep the equations listed at the top of the section."
      ]
    },
    {
      "cell_type": "markdown",
      "metadata": {
        "id": "xhyJQTY1Hy6p"
      },
      "source": [
        "### 1.1 Student task:\n",
        "<a id='section1pt1'></a>\n",
        "Fill in the interior of the for loop to timestep the equations from the start of Section 1 using the Explicit Euler method."
      ]
    },
    {
      "cell_type": "code",
      "execution_count": null,
      "metadata": {
        "id": "sxGPRAZKHy6p"
      },
      "outputs": [],
      "source": [
        "for i in range(0, Nt-1):\n",
        "    T[i+1] = T[i] + 1/C_s * dt * (F(t[i]) - gamma * (T[i] - theta[i]))\n",
        "    theta[i+1] = theta[i] + 1/C_d * dt * gamma * (T[i] - theta[i])"
      ]
    },
    {
      "cell_type": "markdown",
      "metadata": {
        "id": "CNu4dk0OHy6p"
      },
      "source": [
        "After you are finished, run the cell below to plot the results"
      ]
    },
    {
      "cell_type": "code",
      "execution_count": null,
      "metadata": {
        "id": "OOYD0gFHHy6p"
      },
      "outputs": [],
      "source": [
        "plt.plot(t,T,'r-')\n",
        "plt.plot(t,theta,'b-')\n",
        "plt.legend(['Surface temperature','Deep ocean temperature'])\n",
        "plt.xlabel('Time (years)')\n",
        "plt.ylabel('Temperature anomaly (ºK)')\n",
        "plt.show()"
      ]
    },
    {
      "cell_type": "markdown",
      "metadata": {
        "id": "WtH_9VaEHy6p"
      },
      "source": [
        "### 1.2 Student task\n",
        "<a id='section1pt2'></a>\n",
        "Discuss the rates of change the temperature of the Earth's surface and the deep ocean at the start of the model run.  Can you explain these rates by defining characteristic timescales from the box model equations?"
      ]
    },
    {
      "cell_type": "markdown",
      "source": [
        "At the start of the model run, the temperature of surface increases rapidly, with the temperature of the ocean increasing at a slower rate.\n",
        "characteristic timescales: T - cs/gamma, theta - cd/gamma\n",
        "1) at the start, timescale of the ocean is larger than timescale of surface, so it takes longer for the ocean to heat up\n",
        "2) surface temperature >> ocean temperature, gamma*ocean temperature << 1 so important terms are F and gamma*T. T proportional to 1/c_s t - almost linear until forcing is turned Off\n",
        "3) No forcing: same timescales as before so surface decreases more quickly (exponential decay) than ocean increases until they reach the same temperature, at which point both derivatives are zero. It is also interesting to note that the timescale of the difference in temperatures is C_s/(gamma*C_d-C_s), so they reach equilibrium (T-theta reaches zero) in this timescale. This timescale can be calculated from solving d/dt(T-theta)."
      ],
      "metadata": {
        "id": "MrCDpzM3rkJo"
      }
    },
    {
      "cell_type": "markdown",
      "metadata": {
        "id": "IcgNeNK-Hy6p"
      },
      "source": [
        "### 1.3 Student task\n",
        "<a id='section1pt3'></a>\n",
        "Modify the forcing function, `F(t)` above with 2-3 scenarios of your choice. Plot the temperature response for each scenario and briefly (2-3 sentences each) describe the temperature responses in each scenario. You will need to replicate some of the code blocks above so that you can produce a new set of plots below."
      ]
    },
    {
      "cell_type": "code",
      "execution_count": null,
      "metadata": {
        "id": "26qR7qEXHy6p"
      },
      "outputs": [],
      "source": [
        "# Add code to make plots here\n",
        "def plot_scenario(F, title):\n",
        "  Nt = 500 # number of time steps (including the starting point)\n",
        "  T = np.zeros(Nt) # surface temperature array\n",
        "  theta = np.zeros(Nt) # deep ocean temperature array\n",
        "  T[0] = 0 # initial surface temperature anomaly (ºK)\n",
        "  theta[0] = 0 # initial deep ocean temperature anomaly (ºK)\n",
        "\n",
        "  t = np.linspace(0, 500, Nt) # time in years.  This starts at 0 and ends at 500, with Nt total points\n",
        "  dt = t[1] - t[0] # timestep in years\n",
        "  for i in range(0, Nt-1):\n",
        "    T[i+1] = T[i] + 1/C_s * dt * (F(t[i]) - gamma * (T[i] - theta[i]))\n",
        "    theta[i+1] = theta[i] + 1/C_d * dt * gamma * (T[i] - theta[i])\n",
        "\n",
        "  plt.plot(t,T,'r-')\n",
        "  plt.plot(t,theta,'b-')\n",
        "  plt.legend(['Surface temperature','Deep ocean temperature'])\n",
        "  plt.xlabel('Time (years)')\n",
        "  plt.ylabel('Temperature anomaly (ºK)')\n",
        "  plt.title(title)\n",
        "  plt.show()\n",
        "\n",
        "\n",
        "def F1(t):\n",
        "    return 0.01*t if t < 150 else 1.5*np.exp(-(t-150)/50) #global warming approaching a new equilibrium\n",
        "title1 = 'Global warming'\n",
        "\n",
        "def F2(t):\n",
        "    return - 3 * np.exp(-(t-100)/3) if 100 < t  else 0 #volcanic eruption\n",
        "title2 = 'Volcanic eruption'\n",
        "\n",
        "plot_scenario(F1, title1)\n",
        "plot_scenario(F2, title2)\n"
      ]
    },
    {
      "cell_type": "markdown",
      "metadata": {
        "id": "saB7iWWCHy6p"
      },
      "source": [
        "Scenario 1: Global warming until we run out of fossil fuels or there are significant climate mitigation policies introduced at year 150 (hopefully this will happen sooner in real life!), reducing greenhouse emissions, so the earth's temperature goes back down, with a timescale of 50 years, but to a new equilibrium.\n",
        "\n",
        "Scenario 2: volcanic eruption at t = 100 - causes cooling at timescale of 3 years. This represents the cooling from statospheric aerosols after an eruption\n",
        ""
      ]
    },
    {
      "cell_type": "markdown",
      "metadata": {
        "id": "U0AzyaHcHy6p"
      },
      "source": [
        "## 2. Diffusion equation"
      ]
    },
    {
      "cell_type": "markdown",
      "metadata": {
        "id": "-ZF8x7YHHy6p"
      },
      "source": [
        "In this part of the project we will solve the 1-D diffusion equation:\n",
        "\n",
        "$$ \\partial_t c = \\kappa \\partial_x^2 c $$\n",
        "\n",
        "We will use second order finite differences to approximate the $x$-derivatives, and we will implement and compare two timestepping methods.\n",
        "\n",
        "Student tasks are in [Section 2.1](#section2pt1), [Section 2.2](#section2pt2), and [Section 2.3](#section2pt3)."
      ]
    },
    {
      "cell_type": "markdown",
      "metadata": {
        "id": "sDl7CKPsHy6p"
      },
      "source": [
        "First, let's discretize the second order derivative using finite differences. The function below builds a coefficient matrix, $M$, so that $Mc$ is a discretized version of $\\partial^2_x c$, where in our discretized version $c$ is a column vector."
      ]
    },
    {
      "cell_type": "code",
      "execution_count": null,
      "metadata": {
        "id": "aQZzi3oaHy6p"
      },
      "outputs": [],
      "source": [
        "    def construct_M(x):\n",
        "    # Build a coefficient matrix, such that M*c is the discrete version of d^2/dx^2(c)\n",
        "        dx = x[1] - x[0]  # Infer the uniform grid spacing\n",
        "        M = (np.diag(np.ones(Nx-1), -1) - 2*np.diag(np.ones(Nx), 0) + np.diag(np.ones(Nx-1), 1)) / dx**2\n",
        "        M = sp.csr_matrix(M) # Turn M into a sparse matrix to save memory and improve speed\n",
        "        return M\n",
        ""
      ]
    },
    {
      "cell_type": "markdown",
      "metadata": {
        "id": "Tquy_Mqe5wOR"
      },
      "source": [
        "Now, define two functions to timestep the diffusion equation. The code below timesteps the diffusion equation using the expicit Euler method. The function takes in a vector of discrete positions, `x`, discrete times, `t`, and the diffusivity, `kappa`. The vectors `x` and `t` dictate the discretization of the problem in space and time, and the grid spacing must be constant in space and time. The boundary conditions are $\\partial_x c=0$ at the starting and ending points in `x`."
      ]
    },
    {
      "cell_type": "code",
      "execution_count": null,
      "metadata": {
        "id": "0-9DGnW65wOR"
      },
      "outputs": [],
      "source": [
        "def EE(x, t, kappa):\n",
        "# This function timesteps the diffusion equation with homogeneous Neumann boundary conditions\n",
        "# using the explicit Euler and second order finite difference methods\n",
        "\n",
        "    start_time = time.time()  # Start a timer\n",
        "\n",
        "    # Infer the timestep from the time array\n",
        "    dt = t[1] - t[0]\n",
        "\n",
        "    M = construct_M(x)  # Construct the coefficient matrix for the second derivative\n",
        "\n",
        "    # Set the number of gridpoints in x and t\n",
        "    Nx = len(x); Nt = len(t)\n",
        "\n",
        "    # Create an empty sparse array to store the solution\n",
        "    c = np.zeros((Nx, Nt))\n",
        "\n",
        "    c[:, 0] = set_ics(x, kappa, 10)  # Set the initial condition\n",
        "\n",
        "    for k in range(1, Nt):  # loop over the number of timesteps\n",
        "      c[:,k] = c[:,k-1] + dt * kappa * M @ c[:,k-1]\n",
        "      # Enforce the boundary conditions (no flux)\n",
        "      c[0, k] = c[1, k]\n",
        "      c[-1, k] = c[-2, k]\n",
        "\n",
        "    end_time = time.time()  # Print the elapsed time\n",
        "\n",
        "    print(f\"Explicit Euler method took {end_time - start_time:.2f} seconds\")\n",
        "\n",
        "    return c"
      ]
    },
    {
      "cell_type": "markdown",
      "metadata": {
        "id": "OX6RUI8J5wOR"
      },
      "source": [
        "Similarly, the function below timesteps the diffusion equation with the Crank-Nicolson method"
      ]
    },
    {
      "cell_type": "code",
      "execution_count": null,
      "metadata": {
        "id": "KRXOP_KR5wOR"
      },
      "outputs": [],
      "source": [
        "def CN(x, t, kappa):\n",
        "# This function timesteps the diffusion equation with homogeneous Neumann boundary conditions\n",
        "# using the explicit Euler and second order finite difference methods\n",
        "    start_time = time.time()  # Start a timer\n",
        "\n",
        "    # Infer the timestep from the time array\n",
        "    dt = t[1] - t[0]\n",
        "\n",
        "    M = construct_M(x)  # Construct the coefficient matrix for the second derivative\n",
        "\n",
        "    # Set the number of gridpoints in x and t\n",
        "    Nx = len(x); Nt = len(t)\n",
        "\n",
        "    A = sp.eye(Nx) - 0.5 * dt * kappa * M  # This matrix appears on the LHS in the C-N scheme\n",
        "    A_inv = spla.inv(A) # Calculate the inverse of A (this only needs to be done once)\n",
        "\n",
        "    # Create an empty sparse array to store the solution\n",
        "    c = np.zeros((Nx, Nt))\n",
        "\n",
        "    c[:, 0] = set_ics(x, kappa, 10)  # Set the initial condition\n",
        "\n",
        "    for k in range(1, Nt): # loop over the number of timesteps\n",
        "        c[:, k] = A_inv @ (c[:, k-1] + 0.5 * dt * kappa * (M @ c[:, k-1]))\n",
        "        # Enforce the boundary conditions\n",
        "        c[0, k] = c[1, k]\n",
        "        c[-1, k] = c[-2, k]\n",
        "\n",
        "    end_time = time.time()  # Print the elapsed time\n",
        "\n",
        "    print(f\"Crank-Nicolson method took {end_time - start_time:.2f} seconds\")\n",
        "\n",
        "    return c"
      ]
    },
    {
      "cell_type": "markdown",
      "metadata": {
        "id": "CFtuEsYm5wOR"
      },
      "source": [
        "Next, create a function to set the initial conditions. The exact solution to the unbounded diffusion equation with a delta function initial condition is:\n",
        "\n",
        "$$\\left(\\frac{1}{4\\pi\\kappa t}\\right)^{1/2}e^{-x^2/(4\\kappa t)}$$\n",
        "\n",
        "The function below sets the initial condition by evaluating the exact solution at a given time. Note that it is important that we don't evaluate the exact solution at `t_ic=0` since this will return a delta function which will be undefined on our finite grid. The value of `t_ic` is set within the `EE` and `CN` functions."
      ]
    },
    {
      "cell_type": "code",
      "execution_count": null,
      "metadata": {
        "id": "Z7eqXuoY5wOR"
      },
      "outputs": [],
      "source": [
        "# Function to set the initial condition from the exact solution at time t_start\n",
        "def set_ics(x, kappa, t_ic):\n",
        "    c_ic = (4*np.pi*kappa*t_ic)**(-0.5)*np.exp(-x**2 / (4*kappa*t_ic))\n",
        "    # Enforce the boundary conditions\n",
        "    c_ic[0] = c_ic[1]\n",
        "    c_ic[-1] = c_ic[-2]\n",
        "    return c_ic\n"
      ]
    },
    {
      "cell_type": "markdown",
      "metadata": {
        "id": "4xs_Yhdb5wOS"
      },
      "source": [
        "Finally, define some parameters and the x and t vectors:"
      ]
    },
    {
      "cell_type": "code",
      "execution_count": null,
      "metadata": {
        "id": "mHatFZjk5wOS"
      },
      "outputs": [],
      "source": [
        "# Defining parameters\n",
        "kappa = 0.03  # diffusivity\n",
        "\n",
        "# Timestepping parameters\n",
        "t_start = 0  # start time (note that this is not the same time used to evaluate the exact solution to set the ICs)\n",
        "t_end = 10  # end time\n",
        "Nt = 1000  # number of timesteps\n",
        "\n",
        "# Size of the physical domain\n",
        "x_start = -1\n",
        "x_end = 1\n",
        "Nx = 100\n",
        "\n",
        "t = np.linspace(t_start, t_end, Nt)  # Create a vector of times\n",
        "x = np.linspace(x_start, x_end, Nx)  # Create a vector for x"
      ]
    },
    {
      "cell_type": "markdown",
      "metadata": {
        "id": "nate3yVV5wOS"
      },
      "source": [
        "Run each method once:"
      ]
    },
    {
      "cell_type": "code",
      "execution_count": null,
      "metadata": {
        "id": "UmccFq585wOS"
      },
      "outputs": [],
      "source": [
        "# Run the simulations\n",
        "c_EE = EE(x, t, kappa) # explicit Euler\n",
        "c_CN = CN(x, t, kappa) # Crank-Nicolson"
      ]
    },
    {
      "cell_type": "markdown",
      "metadata": {
        "id": "gh_SpkMY5wOS"
      },
      "source": [
        "and finally, plot the results side-by-side"
      ]
    },
    {
      "cell_type": "code",
      "execution_count": null,
      "metadata": {
        "id": "A2bPKtdH5wOS"
      },
      "outputs": [],
      "source": [
        "# Plot the results\n",
        "plt.figure(figsize=(14, 6))\n",
        "\n",
        "plt.subplot(1, 2, 1)\n",
        "plt.pcolormesh(x, t, c_EE.T, shading='auto')\n",
        "plt.colorbar()\n",
        "plt.xlabel('x')\n",
        "plt.ylabel('t')\n",
        "plt.title('Explicit Euler')\n",
        "\n",
        "plt.subplot(1, 2, 2)\n",
        "plt.pcolormesh(x, t, c_CN.T, shading='auto')\n",
        "plt.colorbar()\n",
        "plt.xlabel('x')\n",
        "plt.ylabel('t')\n",
        "plt.title('Crank-Nicolson')\n",
        "\n",
        "plt.tight_layout()\n",
        "plt.show()"
      ]
    },
    {
      "cell_type": "markdown",
      "metadata": {
        "id": "ttgIGnFH5wOT"
      },
      "source": [
        "## 2. Student investigation"
      ]
    },
    {
      "cell_type": "markdown",
      "metadata": {
        "id": "YTcN74Wy5wOT"
      },
      "source": [
        "### 2.1 Stability\n",
        "<a id='section2pt1'></a>\n",
        "The explicit Euler and Crank-Nicolson methods have different stability properties. To explore this, try increasing the diffusivity, $\\kappa$, and see how each method responds. Discuss your findings below (~2-3 sentences)."
      ]
    },
    {
      "cell_type": "markdown",
      "metadata": {
        "id": "PRYwUBJx5wOT"
      },
      "source": [
        "As $\\kappa$ increases, we see the yellow region in the middle becoming larger and \\kappa = 0.031 okay but 0.0311 errors come with Euler as axis cannot be NaN or infty\n",
        "unreliable with\n",
        "expect the solutions to go to zero, as it is a decaying exponential, for a fixed kappa\n",
        "can scale t with 1/kappa\n",
        "CN stable for all of dt when non dimensional so stable for all kappa\n",
        "euler is unstable for some small t\n",
        "\n",
        "We can perform Fourier stability analysis to the schemes to show that the Crank - Nicolson scheme is unconditionally stable, but Explicit Euler requires $$\\frac{\\kappa\\delta t}{\\delta x^2}<\\frac{1}{2}$$. For $\\delta t$ =\n",
        "\n",
        "also look at varying dx and dt and perhaps save some of the plots."
      ]
    },
    {
      "cell_type": "markdown",
      "metadata": {
        "id": "iLIfQc-C5wOT"
      },
      "source": [
        "### 2.2 Accuracy\n",
        "<a id='section2pt2'></a>\n",
        "Next, we will examine the accuracy of the numerical methods used above. In order to do this, it is useful to compare our numerical solutions with the exact solution to the diffusion equation. Below, write code to plot the exact solution and the numerical solution using explicit Euler and Crank-Nicolson at the final time ($t=10$). Note that you can use the exact solution to the diffusion equation in an unbounded domain in $x$ and keep in mind that the exact solution and numerical solutions will differ for later times when boundary effects are felt."
      ]
    },
    {
      "cell_type": "code",
      "execution_count": null,
      "metadata": {
        "id": "mCLwo0ky5wOT"
      },
      "outputs": [],
      "source": [
        "# Add code to plot exact and numerical solutions\n",
        "t_ic = 10\n",
        "\n",
        "def true_solution(x,t,z):\n",
        "  return (1/(4*np.pi*z*(t+t_ic)))**(1/2)*np.exp(-(np.square(x))/(4*z*(t+t_ic)))\n",
        "\n",
        "y = true_solution(x,10,kappa)\n",
        "\n",
        "\n",
        "plt.plot(x,c_EE[:,999],'r-')\n",
        "plt.plot(x,y,'b-')\n",
        "plt.legend(['Exact solution','Numerical solution'])\n",
        "plt.xlabel('x')\n",
        "plt.ylabel('Concentration')\n",
        "plt.title('Explicit Euler')\n",
        "plt.show()\n",
        "\n",
        "plt.plot(x,c_CN[:,999],'r-')\n",
        "plt.plot(x,y,'b-')\n",
        "plt.legend(['Exact solution','Numerical solution'])\n",
        "plt.xlabel('x')\n",
        "plt.ylabel('Concentration')\n",
        "plt.title('Crank-Nicholson')\n",
        "plt.show()\n"
      ]
    },
    {
      "cell_type": "markdown",
      "metadata": {
        "id": "Tr9KX8-O5wOT"
      },
      "source": [
        "The difference between the exact solution and the numerical approximation can be quantified by various measures of error. The *local error* is the difference between the exact solution and the numerical approximation after one timestep. The *global error* is the difference between the solutions after a fixed amount of time (which includes the accumulation of multiple steps of local error). A method is first order accurate if the global error is linearly proportional to the timestep. A method is second order accurate if the global error varies quadratically with the timestep. Below, calculate and plot the global error for the Explicit Euler and Crank-Nicolson methods and use your results to infer the order of accuracy of each scheme."
      ]
    },
    {
      "cell_type": "markdown",
      "metadata": {
        "id": "guaq3Hds5wOT"
      },
      "source": [
        "PLOT GLOBAL ERROR FOR EACH SCHEME (1-2 figures) AND DISCUSS ORDER OF ACCURACY (2-3 sentences)"
      ]
    },
    {
      "cell_type": "code",
      "source": [
        "plt.plot(x,np.abs(y-c_EE[:,999]))"
      ],
      "metadata": {
        "id": "jLZVTQ2wAk5P"
      },
      "execution_count": null,
      "outputs": []
    },
    {
      "cell_type": "code",
      "execution_count": null,
      "metadata": {
        "id": "zRV2oWgA5wOT",
        "colab": {
          "base_uri": "https://localhost:8080/"
        },
        "outputId": "a904f47c-ba24-4d52-a718-73c682f173c1"
      },
      "outputs": [
        {
          "output_type": "stream",
          "name": "stdout",
          "text": [
            "Crank-Nicolson method took 0.93 seconds\n",
            "0.5\n",
            "Crank-Nicolson method took 1.08 seconds\n",
            "0.5\n",
            "Crank-Nicolson method took 1.14 seconds\n",
            "0.5\n",
            "Crank-Nicolson method took 0.79 seconds\n",
            "0.5\n",
            "Crank-Nicolson method took 0.80 seconds\n",
            "0.5\n",
            "Crank-Nicolson method took 0.86 seconds\n",
            "0.5\n",
            "Crank-Nicolson method took 0.88 seconds\n",
            "0.5\n",
            "Crank-Nicolson method took 0.90 seconds\n",
            "0.5\n",
            "Crank-Nicolson method took 0.90 seconds\n",
            "0.5\n",
            "Crank-Nicolson method took 0.98 seconds\n",
            "0.5\n",
            "Crank-Nicolson method took 0.94 seconds\n",
            "0.5\n",
            "Crank-Nicolson method took 1.00 seconds\n",
            "0.5\n",
            "Crank-Nicolson method took 0.99 seconds\n",
            "0.5\n",
            "Crank-Nicolson method took 1.06 seconds\n",
            "0.5\n",
            "Crank-Nicolson method took 1.40 seconds\n",
            "0.5\n"
          ]
        }
      ],
      "source": [
        "# Add code to plot error here\n",
        "# Changing the temporal step\n",
        "\n",
        "euler_error = np.zeros(20)\n",
        "CN_error = np.zeros(20)\n",
        "N = np.arange(10,110,5) # A range of number of steps to take to get to t=10\n",
        "stepsize = np.divide(10,N-1)\n",
        "\n",
        "def true_solution(x,t,z):\n",
        "  return (4*np.pi*z*(t+t_ic))**(-1/2)*np.exp((-x**2)/(4*z*(t+t_ic)))\n",
        "\n",
        "t_start = 0  # start time (note that this is not the same time used to evaluate the exact solution to set the ICs)\n",
        "t_end = 10  # end time\n",
        "x_start = -1\n",
        "x_end = 1\n",
        "Nx = 1601\n",
        "\n",
        "for i in range(20):\n",
        "  Nt = N[i]\n",
        "  t = np.linspace(t_start, t_end, Nt)\n",
        "  x = np.linspace(x_start, x_end, Nx)\n",
        "  c_CN = CN(x, t, kappa)\n",
        "  arg = int(3/4*(Nx-1))\n",
        "  print(x[arg])\n",
        "  CN_error[i] = np.abs(true_solution(0.5,t_end,kappa) - c_CN[arg,-1])\n",
        "\n",
        "\n",
        "plt.plot(np.log10(stepsize[10:19]), np.log10(CN_error[10:19]),'bo-')\n",
        "plt.ylabel('Error')\n",
        "plt.xlabel('Time step')\n",
        "plt.title('Global Error at x=0 for Crank-Nicholson')\n",
        "plt.grid()\n",
        "plt.show()\n",
        "m_CN = np.polyfit(np.log10(stepsize[0:19]), np.log10(CN_error[0:19]),1)\n",
        "print('The gradient for the Crank-Nicolson log-log plot is',m_CN,'.')\n"
      ]
    },
    {
      "cell_type": "code",
      "source": [
        "# Add code to plot error here\n",
        "# Changing the temporal step\n",
        "kappa = 0.001\n",
        "euler_error = np.zeros(10)\n",
        "N = np.arange(45031,45041,1) # A range of number of steps to take to get to t=10\n",
        "stepsize = np.divide(10,N-1)\n",
        "\n",
        "def true_solution(x,t,z):\n",
        "  return (4*np.pi*z*(t+t_ic))**(-1/2)*np.exp((-x**2)/(4*z*(t+t_ic)))\n",
        "\n",
        "t_start = 0  # start time (note that this is not the same time used to evaluate the exact solution to set the ICs)\n",
        "t_end = 10  # end time\n",
        "x_start = -1\n",
        "x_end = 1\n",
        "Nx = 3001\n",
        "\n",
        "for i in range(10):\n",
        "  Nt = N[i]\n",
        "  t = np.linspace(t_start, t_end, Nt)\n",
        "  x = np.linspace(x_start, x_end, Nx)\n",
        "  c_EE = EE(x, t, kappa)\n",
        "  arg = int(1/2*(Nx-1))\n",
        "  euler_error[i] = np.abs(true_solution(0,t_end,kappa) - c_EE[arg,-1])\n",
        "\n",
        "\n",
        "\n",
        "plt.plot(np.log10(stepsize[0:9]), np.log10(euler_error[0:9]), 'ro-')\n",
        "plt.ylabel('Error')\n",
        "plt.xlabel('Time step')\n",
        "plt.title('Global Error at x=0 for Explicit Euler')\n",
        "plt.grid()\n",
        "plt.show()\n",
        "m_EE = np.polyfit(np.log10(stepsize[0:9]), np.log10(euler_error[0:9]),1)\n",
        "print('The gradient for the explicit Euler log-log plot is',m_EE,'.')"
      ],
      "metadata": {
        "id": "g1Mp2WhXK39P"
      },
      "execution_count": null,
      "outputs": []
    },
    {
      "cell_type": "code",
      "source": [
        "# Changing the spatial step\n",
        "kappa = 0.001\n",
        "euler_error = np.zeros(20)\n",
        "CN_error = np.zeros(20)\n",
        "N = np.arange(49,129,4)\n",
        "stepsize = np.divide(2,N-1)\n",
        "\n",
        "def true_solution(x,t,z):\n",
        "  return (4*np.pi*z*(t+t_ic))**(-1/2)*np.exp((-x**2)/(4*z*(t+t_ic)))\n",
        "\n",
        "t_start = 0  # start time (note that this is not the same time used to evaluate the exact solution to set the ICs)\n",
        "t_end = 10  # end time\n",
        "x_start = -1\n",
        "x_end = 1\n",
        "Nt = 2001\n",
        "\n",
        "for i in range(20):\n",
        "  Nx = N[i]\n",
        "  t = np.linspace(t_start, t_end, Nt)\n",
        "  x = np.linspace(x_start, x_end, Nx)\n",
        "  c_EE = EE(x, t, kappa)\n",
        "  c_CN = CN(x, t, kappa)\n",
        "  arg = int(3/4*(Nx-1))\n",
        "  euler_error[i] = np.abs(true_solution(0.5,t_end,kappa) - c_EE[arg,-1])\n",
        "  CN_error[i] = np.abs(true_solution(0.5,t_end,kappa) - c_CN[arg,-1])\n",
        "\n",
        "plt.plot(np.log10(stepsize[0:19]), np.log10(euler_error[0:19]), 'ro-')\n",
        "plt.plot(np.log10(stepsize[0:19]), np.log10(CN_error[0:19]), 'bo-')\n",
        "plt.legend([\"Explicit Euler\"],[\"Crank-Nicholson\"])\n",
        "plt.ylabel('Log10(Error)')\n",
        "plt.xlabel('Space step size, dx')\n",
        "plt.title('Log-log plot for the global errors at x=0.5')\n",
        "plt.grid()\n",
        "plt.show()\n",
        "\n",
        "m_EE = np.polyfit(np.log10(stepsize[0:19]), np.log10(euler_error[0:19]),1)\n",
        "print('The gradient for the Euler log-log plot is',m_EE,'.')\n",
        "\n",
        "m_CN = np.polyfit(np.log10(stepsize[0:19]), np.log10(CN_error[0:19]),1)\n",
        "print('The gradient for the Crank-Nicolson log-log plot is',m_CN,'.')"
      ],
      "metadata": {
        "id": "457bGQl8C9d9"
      },
      "execution_count": null,
      "outputs": []
    },
    {
      "cell_type": "markdown",
      "source": [
        "can show analytically that CN is second order and EE is first order.\n",
        "\n",
        "Can see that both are 2nd order in space, by the gradient of the log-log plots.\n",
        "\n",
        "Haven't varied kappa but that is okay as you can scale out kappa into the t.\n",
        "\n",
        "Require stability and also dominated by time/space where relevant.\n",
        "\n",
        "Reasons why the EE gradient is not correct: influenced by more than just the leading order dt, numerical precision, influence of BCs, spatial error dominance\n",
        "Have decreased gradient from 1.56 to 1.5006 (takes ocer 2 minutes to run for 10 points) by decreasing dx significantly and using the smallest values of dt allowed."
      ],
      "metadata": {
        "id": "hVPX3NnB6-hE"
      }
    },
    {
      "cell_type": "markdown",
      "metadata": {
        "id": "FIR52qFV5wOT"
      },
      "source": [
        "Finally, select a given error tolerance and explore whether explicit Euler or Crank-Nicoslon is more efficient (faster) at generating solutions with error less than your error tolerance. Discuss your conclusion and add supporting figures if necessary."
      ]
    },
    {
      "cell_type": "markdown",
      "source": [
        "need to choose an error tolerance and use the error vs timestep graph from above (when it works properly!) to look at the speed of solutions at that error.\n",
        "\n",
        "could plot error vs computation time plots and see when EE is better than CN and vice versa"
      ],
      "metadata": {
        "id": "7gcjC0i_-3Dj"
      }
    },
    {
      "cell_type": "markdown",
      "metadata": {
        "id": "yGbdjcEg5wOT"
      },
      "source": [
        "INSERT DISCUSSION OF ERROR HERE (~1 paragraph).  OPTIONALLY ADD PLOTS BY INSERTING A CODE BLOCK BELOW."
      ]
    },
    {
      "cell_type": "markdown",
      "metadata": {
        "id": "mLdwDZ_HVA6G"
      },
      "source": [
        "### 2.3 Boundary conditions for Crank-Nicolson scheme\n",
        "<a id='section2pt3'></a>\n",
        "\n",
        "The application of the boundary conditions for the Crank-Nicolson method isn't quite right in the script above (but the boundary conditions aren't very important in this example). Account for the boundary conditions by modifying the coefficient matrix. This should ensure that the boundary conditions are applied to the implicit and explicit terms involved in the Crank-Nicolson update. Plot your results below and verify that the boundary conditions are satisfied.  How would you handle fixed value (Dirichlet) and fixed gradient (Neumann) boundary conditions?"
      ]
    },
    {
      "cell_type": "code",
      "execution_count": null,
      "metadata": {
        "id": "859MFykOHy6t"
      },
      "outputs": [],
      "source": [
        " def construct_M_BC(x):\n",
        "    # Build a coefficient matrix, such that M*c is the discrete version of d^2/dx^2(c)\n",
        "    # Neumann BCs built in - need Mc[1,1]=Mc[-1,-1]=0\n",
        "        dx = x[1] - x[0]  # Infer the uniform grid spacing\n",
        "        M = (np.diag(np.ones(Nx-1), -1) - 2*np.diag(np.ones(Nx), 0) + np.diag(np.ones(Nx-1), 1)) / dx**2\n",
        "        M[0,0] = -1 #Setting the homogeneous Neumann boundary conditions into the matrix\n",
        "        M[-1,-1]= -1\n",
        "        M = sp.csr_matrix(M) # Turn M into a sparse matrix to save memory and improve speed\n",
        "        return M\n",
        "\n",
        "# Defining parameters\n",
        "kappa = 0.001  # diffusivity\n",
        "\n",
        "# Timestepping parameters\n",
        "t_start = 0  # start time (note that this is not the same time used to evaluate the exact solution to set the ICs)\n",
        "t_end = 10  # end time\n",
        "Nt = 1000  # number of timesteps\n",
        "\n",
        "# Size of the physical domain\n",
        "x_start = -1\n",
        "x_end = 1\n",
        "Nx = 100\n",
        "\n",
        "t = np.linspace(t_start, t_end, Nt)  # Create a vector of times\n",
        "x = np.linspace(x_start, x_end, Nx)  # Create a vector for x\n",
        "\n",
        "def CN(x, t, kappa):\n",
        "# This function timesteps the diffusion equation with homogeneous Neumann boundary conditions\n",
        "# using the explicit Euler and second order finite difference methods\n",
        "\n",
        "\n",
        "    # Infer the timestep from the time array\n",
        "    dt = t[1] - t[0]\n",
        "\n",
        "    M = construct_M_BC(x)  # Construct the coefficient matrix for the second derivative\n",
        "\n",
        "    # Set the number of gridpoints in x and t\n",
        "    Nx = len(x); Nt = len(t)\n",
        "\n",
        "    A = sp.eye(Nx) - 0.5 * dt * kappa * M  # This matrix appears on the LHS in the C-N scheme\n",
        "    A_inv = spla.inv(A) # Calculate the inverse of A (this only needs to be done once)\n",
        "\n",
        "    # Create an empty sparse array to store the solution\n",
        "    c = np.zeros((Nx, Nt))\n",
        "\n",
        "    c[:, 0] = set_ics(x, kappa, 10)  # Set the initial condition\n",
        "\n",
        "    for k in range(1, Nt): # loop over the number of timesteps\n",
        "        c[:, k] = A_inv @ (c[:, k-1] + 0.5 * dt * kappa * (M @ c[:, k-1]))\n",
        "\n",
        "\n",
        "    return c\n",
        "\n",
        "c_CN_BC = CN(x,t,kappa)\n",
        "\n",
        "real_t = t + 20\n",
        "\n",
        "plt.plot(x, c_CN_BC[:,100], 'r-')\n",
        "plt.plot(x , c_CN_BC[:,400], 'b-')\n",
        "plt.plot(x, c_CN_BC[:,600], 'g-')\n",
        "plt.plot(x, c_CN_BC[:,999], 'y-')\n",
        "plt.grid()\n",
        "plt.xlabel('x')\n",
        "\n",
        ""
      ]
    },
    {
      "cell_type": "code",
      "metadata": {
        "id": "d67aed8c"
      },
      "source": [
        "# Code to calculate numerical approx gradients at the boundaries\n",
        "\n",
        "# Calculate spatial step size dx\n",
        "dx = x[1] - x[0]\n",
        "\n",
        "# Get the concentration values at the final time step\n",
        "c_final = c_CN_BC[:, -1]\n",
        "left_gradient_approx = (c_final[1] - c_final[0]) / dx\n",
        "right_gradient_approx = (c_final[-1] - c_final[-2]) / dx\n",
        "\n",
        "print(f\"Numerical gradient at left boundary (x={x[0]:.2f}) at final time: {left_gradient_approx:.4e}\")\n",
        "print(f\"Numerical gradient at right boundary (x={x[-1]:.2f}) at final time: {right_gradient_approx:.4e}\")\n",
        "\n",
        "# If the boundary conditions are perfectly enforced, these values should be very close to zero."
      ],
      "execution_count": null,
      "outputs": []
    },
    {
      "cell_type": "markdown",
      "metadata": {
        "id": "iKeRx8fLHy6t"
      },
      "source": [
        "Change M to have -1 in corners to make sure that dc/dt=0\n",
        "Can see qualitatively that the gradient is zero, and approximating the gradients, we see that the numerical gradient is very close to zero, with an absolute value of 3.0.325 * 10 ^-2 (see above code - will write this out better).\n",
        "\n",
        "Dirichlet BCs (fixed endpoint values of c): set c[0,:] = a and c[-1,:] = b in the code for CN and then in the loop for k, apply the scheme for c[1:-2,k] instead of c[:,k], given that the end values are already set.\n",
        "\n",
        "Inhomogeneous Neumann BCs (fixed, non-zero endpoint values of dc/dt): enforce it by using the modified M for homogeneous Neumann, plus a vector carrying the BCs: dc/dt = MC + v(t) where all entries of v(t) are zero apart from first and last. Then discretising yields (Ck-ck-1)/dt=kappa/2M(ck-1+ck)+vk so rearrange for ck for the numerical method"
      ]
    }
  ],
  "metadata": {
    "colab": {
      "provenance": []
    },
    "kernelspec": {
      "display_name": "dedalus3",
      "language": "python",
      "name": "python3"
    },
    "language_info": {
      "codemirror_mode": {
        "name": "ipython",
        "version": 3
      },
      "file_extension": ".py",
      "mimetype": "text/x-python",
      "name": "python",
      "nbconvert_exporter": "python",
      "pygments_lexer": "ipython3",
      "version": "3.12.2"
    }
  },
  "nbformat": 4,
  "nbformat_minor": 0
}